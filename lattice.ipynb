{
 "cells": [
  {
   "cell_type": "code",
   "execution_count": 20,
   "metadata": {},
   "outputs": [],
   "source": [
    "from pymatgen.ext.matproj import MPRester\n",
    "from pymatgen.io.cif import CifWriter\n",
    "from pymatgen.symmetry.analyzer import SpacegroupAnalyzer\n",
    "import numpy as np\n",
    "\n",
    "with MPRester(\"nfHDloqMhx9N7jWGsB8\") as m:\n",
    "\n",
    "    # Structure for material id\n",
    "    structure = m.get_structure_by_material_id(\"mp-762\")\n",
    "    \n",
    "    \n",
    "    # Including data into a cif file\n",
    "    w = CifWriter(structure)\n",
    "    w.write_file('mp-762.cif')\n",
    "    \n",
    "    \n",
    "    K = SpacegroupAnalyzer(structure)\n",
    "    \n",
    "    # vecteurs de base du réseau direct\n",
    "    Lattice = structure.lattice\n",
    "    \n",
    "    # paramètres de maille\n",
    "    abc = Lattice.abc\n",
    "    Angles = Lattice.angles\n",
    "\n",
    "    # vecteurs de base du réseau réciproque\n",
    "    RecLattice = Lattice.reciprocal_lattice\n",
    "    abcStar = RecLattice.abc\n",
    "    AngleStar = RecLattice.angles\n",
    "\n",
    "    # Systeme cristallin \n",
    "    sc = K.get_crystal_system()\n",
    "             \n",
    "    # type de maille\n",
    "    lt = K.get_lattice_type()\n",
    "       \n",
    "    # Groupe ponctuel\n",
    "    gp = K.get_point_group_symbol()\n",
    "    \n",
    "\n",
    "    # Including data into a txt file\n",
    "    \"\"\"with open('latticefile.txt','w') as fd:\n",
    "        fd.write(y.__str__())\n",
    "        fd.write(\"\\n\\na*b*c* :  %.6f   %.6f%6.f\\n\"%(aStar,bStar,cStar))\n",
    "        fd.write(\"Système cristalin : %s\\n\"%(sc))\n",
    "        fd.write(\"Type de maille : %s\\n\"%(lt))\n",
    "        fd.write(\"Groupe ponctuel : %s\\n\"%(gp))\"\"\"\n",
    "        \n",
    "    "
   ]
  },
  {
   "cell_type": "code",
   "execution_count": 17,
   "metadata": {},
   "outputs": [
    {
     "name": "stdout",
     "output_type": "stream",
     "text": [
      "Les vecteurs de base du réseau direct du cristal sont caractérisées par les paramètres abc :\n",
      " (3.58007363, 3.5800736266350386, 6.25086739) \n",
      "et alpha beta gamma :\n",
      " (90.0, 90.0, 119.99999993869251)\n",
      "Qui, en coordonnées cartésiennes donnent :\n",
      " 3.580074 0.000000 0.000000\n",
      "-1.790037 3.100435 0.000000\n",
      "0.000000 0.000000 6.250867\n"
     ]
    }
   ],
   "source": [
    "print(\"Les vecteurs de base du réseau direct du cristal sont caractérisées par les paramètres abc :\\n\",abc,\"\\net alpha beta gamma :\\n\",Angles)\n",
    "print(\"Qui, en coordonnées cartésiennes donnent :\\n\",Lattice)"
   ]
  },
  {
   "cell_type": "code",
   "execution_count": 24,
   "metadata": {},
   "outputs": [
    {
     "name": "stdout",
     "output_type": "stream",
     "text": [
      "les vecteurs du réseau réciproque sont caractérisés par les paramètres a*b*c* :\n",
      " (2.0265497870374225, 2.0265497889422046, 1.0051701492230163)\n",
      "et alpha* beta* gamma* :\n",
      " (90.0, 90.0, 60.00000006130749)\n",
      "Qui, en coordonées cartésiennes donnent :\n",
      " 1.755044 1.013275 0.000000\n",
      "0.000000 2.026550 0.000000\n",
      "0.000000 0.000000 1.005170\n"
     ]
    }
   ],
   "source": [
    "print(\"les vecteurs du réseau réciproque sont caractérisés par les paramètres a*b*c* :\\n\",abcStar)\n",
    "print(\"et alpha* beta* gamma* :\\n\",AngleStar)\n",
    "print(\"Qui, en coordonées cartésiennes donnent :\\n\",RecLattice)"
   ]
  },
  {
   "cell_type": "code",
   "execution_count": 27,
   "metadata": {},
   "outputs": [
    {
     "name": "stdout",
     "output_type": "stream",
     "text": [
      "Le système cristallin est :\n"
     ]
    },
    {
     "data": {
      "text/plain": [
       "'trigonal'"
      ]
     },
     "execution_count": 27,
     "metadata": {},
     "output_type": "execute_result"
    }
   ],
   "source": [
    "print(\"Le système cristallin est :\")\n",
    "sc"
   ]
  },
  {
   "cell_type": "code",
   "execution_count": 28,
   "metadata": {},
   "outputs": [
    {
     "name": "stdout",
     "output_type": "stream",
     "text": [
      "le type de maille est :\n"
     ]
    },
    {
     "data": {
      "text/plain": [
       "'hexagonal'"
      ]
     },
     "execution_count": 28,
     "metadata": {},
     "output_type": "execute_result"
    }
   ],
   "source": [
    "print(\"le type de maille est :\")\n",
    "lt"
   ]
  },
  {
   "cell_type": "code",
   "execution_count": 30,
   "metadata": {},
   "outputs": [
    {
     "name": "stdout",
     "output_type": "stream",
     "text": [
      "le groupe ponctuel est :\n"
     ]
    },
    {
     "data": {
      "text/plain": [
       "'-3m'"
      ]
     },
     "execution_count": 30,
     "metadata": {},
     "output_type": "execute_result"
    }
   ],
   "source": [
    "print(\"le groupe ponctuel est :\")\n",
    "gp"
   ]
  }
 ],
 "metadata": {
  "kernelspec": {
   "display_name": "Python 3",
   "language": "python",
   "name": "python3"
  },
  "language_info": {
   "codemirror_mode": {
    "name": "ipython",
    "version": 3
   },
   "file_extension": ".py",
   "mimetype": "text/x-python",
   "name": "python",
   "nbconvert_exporter": "python",
   "pygments_lexer": "ipython3",
   "version": "3.6.8"
  }
 },
 "nbformat": 4,
 "nbformat_minor": 2
}
