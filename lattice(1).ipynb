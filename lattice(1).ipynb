{
 "cells": [
  {
   "cell_type": "code",
   "execution_count": 73,
   "metadata": {},
   "outputs": [],
   "source": [
    "from pymatgen.ext.matproj import MPRester\n",
    "from pymatgen.io.cif import CifWriter\n",
    "from pymatgen.symmetry.analyzer import SpacegroupAnalyzer\n",
    "import numpy as np\n",
    "\n",
    "with MPRester(\"nfHDloqMhx9N7jWGsB8\") as m:\n",
    "\n",
    "    # Structure for material id\n",
    "    structure = m.get_structure_by_material_id(\"mp-762\")\n",
    "    \n",
    "    # Including data into a cif file\n",
    "    w = CifWriter(structure)\n",
    "    w.write_file('mp-762.cif')\n",
    "    \n",
    "    \n",
    "    K = SpacegroupAnalyzer(structure)\n",
    "    \n",
    "    # vecteurs de base du réseau direct\n",
    "    y = K.find_primitive()\n",
    "    a = 3.580078\n",
    "    b = 3.580078\n",
    "    c = 6.250867\n",
    "    alpha = np.pi/2\n",
    "    beta = np.pi/2\n",
    "    gamma = 2*np.pi/3\n",
    "    \n",
    "    # vecteurs de base du réseau réciproque\n",
    "    #r = K.get_ir_reciprocal_mesh()\n",
    "    V = structure.volume\n",
    "    aStar = (2*np.pi/V)*b*c*np.sin(alpha)\n",
    "    bStar = (2*np.pi/V)*c*a*np.sin(beta)\n",
    "    cStar = (2*np.pi/V)*a*b*np.sin(gamma)\n",
    "    \n",
    "    # Systeme cristallin \n",
    "    sc = K.get_crystal_system()\n",
    "             \n",
    "    # type de maille\n",
    "    lt = K.get_lattice_type()\n",
    "       \n",
    "    # Groupe ponctuel\n",
    "    gp = K.get_point_group_symbol()\n",
    "    \n",
    "\n",
    "    # Including data into a txt file\n",
    "    with open('latticefile.txt','w') as fd:\n",
    "        fd.write(y.__str__())\n",
    "        fd.write(\"\\n\\na*b*c* :  %.6f   %.6f%6.f\\n\"%(aStar,bStar,cStar))\n",
    "        fd.write(\"Système cristalin : %s\\n\"%(sc))\n",
    "        fd.write(\"Type de maille : %s\\n\"%(lt))\n",
    "        fd.write(\"Groupe ponctuel : %s\\n\"%(gp))\n",
    "        \n",
    "    "
   ]
  }
 ],
 "metadata": {
  "kernelspec": {
   "display_name": "Python 3",
   "language": "python",
   "name": "python3"
  },
  "language_info": {
   "codemirror_mode": {
    "name": "ipython",
    "version": 3
   },
   "file_extension": ".py",
   "mimetype": "text/x-python",
   "name": "python",
   "nbconvert_exporter": "python",
   "pygments_lexer": "ipython3",
   "version": "3.6.8"
  }
 },
 "nbformat": 4,
 "nbformat_minor": 2
}
